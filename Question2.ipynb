{
 "cells": [
  {
   "cell_type": "code",
   "execution_count": null,
   "metadata": {
    "id": "D36Agdxh087D"
   },
   "outputs": [],
   "source": []
  },
  {
   "cell_type": "markdown",
   "metadata": {
    "id": "EkbDngGy09sR"
   },
   "source": []
  },
  {
   "cell_type": "markdown",
   "metadata": {
    "id": "I0Ekxn541FRS"
   },
   "source": []
  },
  {
   "cell_type": "code",
   "execution_count": 1,
   "metadata": {},
   "outputs": [
    {
     "name": "stdout",
     "output_type": "stream",
     "text": [
      "[7.3, 7.35, 8.2, 9.49, 12.41]\n"
     ]
    }
   ],
   "source": [
    "Arriving = [7.30, 9.49, 8.20, 12.41, 7.35]\n",
    "\n",
    "Leaving = [13.12, 10.22, 8.12, 7.50, 8.45]\n",
    "new_list = []\n",
    "\n",
    "while Arriving:\n",
    "    minimum = Arriving[0]  # arbitrary number in list \n",
    "    for x in Arriving: \n",
    "        if x < minimum:\n",
    "            minimum = x\n",
    "    new_list.append(minimum)\n",
    "    Arriving.remove(minimum)    \n",
    "\n",
    "print (new_list)"
   ]
  },
  {
   "cell_type": "code",
   "execution_count": 2,
   "metadata": {},
   "outputs": [
    {
     "name": "stdout",
     "output_type": "stream",
     "text": [
      "[7.5, 8.12, 8.45, 10.22, 13.12]\n"
     ]
    }
   ],
   "source": [
    "new_list2 = []\n",
    "\n",
    "while Leaving:\n",
    "    minimum = Leaving[0]  # arbitrary number in list \n",
    "    for x in Leaving: \n",
    "        if x < minimum:\n",
    "            minimum = x\n",
    "    new_list2.append(minimum)\n",
    "    Leaving.remove(minimum)    \n",
    "\n",
    "print (new_list2)"
   ]
  },
  {
   "cell_type": "code",
   "execution_count": null,
   "metadata": {},
   "outputs": [],
   "source": [
    "At least 2 persons needed because of the early two students came nearly same time"
   ]
  }
 ],
 "metadata": {
  "colab": {
   "collapsed_sections": [],
   "name": "Question2.ipynb",
   "provenance": []
  },
  "kernelspec": {
   "display_name": "Python 3 (ipykernel)",
   "language": "python",
   "name": "python3"
  },
  "language_info": {
   "codemirror_mode": {
    "name": "ipython",
    "version": 3
   },
   "file_extension": ".py",
   "mimetype": "text/x-python",
   "name": "python",
   "nbconvert_exporter": "python",
   "pygments_lexer": "ipython3",
   "version": "3.9.5"
  }
 },
 "nbformat": 4,
 "nbformat_minor": 1
}
